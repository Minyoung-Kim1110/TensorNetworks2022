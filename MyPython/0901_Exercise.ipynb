{
 "cells": [
  {
   "cell_type": "markdown",
   "metadata": {},
   "source": [
    "# Non-interacting fermions on a tight-binding chain\n",
    "$$ \\hat{H}= \\sum^{L-1}_{l=1}(-t_l\\hat{c}_{l+1}^\\dag \\hat{c}_l - t^* _l \\hat{c}_{l} ^\\dag \\hat{c}_{l+1}) $$"
   ]
  },
  {
   "cell_type": "markdown",
   "metadata": {},
   "source": [
    "The chain has $L$ sites, $t_l$ indicates the hopping amplitude between sites $l$ and $l+1$ and $\\hat{c}_{l}^ \\dag$ creates a particle at site $ l \\in [1, L] $ "
   ]
  },
  {
   "cell_type": "markdown",
   "metadata": {},
   "source": [
    "## Exercise (a) Compute the energy and degeneracy of gounds states"
   ]
  },
  {
   "cell_type": "markdown",
   "metadata": {},
   "source": [
    "### (1) import libraries"
   ]
  },
  {
   "cell_type": "code",
   "execution_count": 1,
   "metadata": {},
   "outputs": [],
   "source": [
    "import numpy as np \n",
    "import matplotlib.pyplot as plt"
   ]
  },
  {
   "cell_type": "markdown",
   "metadata": {},
   "source": [
    "### (2) define function \n",
    "\n"
   ]
  },
  {
   "cell_type": "markdown",
   "metadata": {},
   "source": [
    "input : $t$ (length $l-1$)    \n",
    "output: E_G: Ground-state energy     \n",
    "$\\;\\;\\;\\;\\;\\;\\;\\;\\;$ d_G: Ground-state degeneracy"
   ]
  },
  {
   "cell_type": "code",
   "execution_count": 24,
   "metadata": {},
   "outputs": [],
   "source": [
    "def solve(t, L = 10)-> (float, int):\n",
    "    \"\"\"get ground state energy and degeneracy from hopping parameters (with nearest neighbor approach)\n",
    "\n",
    "    Args:\n",
    "        t : L-1 hopping parameters \n",
    "        L (int, optional): Number of sites. Defaults to 10.\n",
    "    Returns: \n",
    "        E_G(float): ground state energy \n",
    "        d_G(int)): ground state degeneracy \n",
    "    \"\"\"\n",
    "    matrix = np.zeros((L, L), dtype = 'complex')\n",
    "    assert len(t) == L-1 \n",
    "\n",
    "    # generate hamiltonian \n",
    "    for l, val  in enumerate(t):\n",
    "        matrix[l+1][l] = - val\n",
    "        matrix[l][l+1] = - np.conjugate(val) \n",
    "    \n",
    "    # calculate single state energy states by computing eigenvalues \n",
    "    single_state_energy, _ = np.linalg.eig(matrix)\n",
    "    single_state_energy = np.sort(single_state_energy)\n",
    "    # calculate many body state ground state \n",
    "    # Since it is spinless fermion, only one particle can occupy one energy state. \n",
    "    E_G = np.sum(single_state_energy[single_state_energy<0])\n",
    "\n",
    "    # Check degeneracy \n",
    "    tol = 10 ** ( -8)\n",
    "    degenerate = np.any(np.abs(single_state_energy - 0) < tol)\n",
    "    if degenerate:\n",
    "        d_G = 2 \n",
    "    else: \n",
    "        d_G = 1 \n",
    "    return np.real(E_G), d_G\n",
    "\n"
   ]
  },
  {
   "cell_type": "markdown",
   "metadata": {},
   "source": [
    "### (3) compute ground-state energies and degeneracies for following three cases "
   ]
  },
  {
   "cell_type": "code",
   "execution_count": 25,
   "metadata": {},
   "outputs": [
    {
     "name": "stdout",
     "output_type": "stream",
     "text": [
      "E_G = -6.02667, d_G = 1\n",
      "E_G = -6.59575, d_G = 2\n",
      "E_G = -6.59575, d_G = 2\n"
     ]
    }
   ],
   "source": [
    "def print_ans(result):\n",
    "    print(f\"E_G = {result[0]:.5f}, d_G = {result[1]}\")\n",
    "\n",
    "print_ans(solve(np.ones((9,)), L=10))\n",
    "print_ans(solve(np.ones((10,)), L=11))\n",
    "print_ans(solve([np.exp(0 + i*1j) for i in range(1, 11)], L=11))\n"
   ]
  },
  {
   "cell_type": "code",
   "execution_count": null,
   "metadata": {},
   "outputs": [],
   "source": []
  }
 ],
 "metadata": {
  "kernelspec": {
   "display_name": "Python 3.7.13 ('TN')",
   "language": "python",
   "name": "python3"
  },
  "language_info": {
   "codemirror_mode": {
    "name": "ipython",
    "version": 3
   },
   "file_extension": ".py",
   "mimetype": "text/x-python",
   "name": "python",
   "nbconvert_exporter": "python",
   "pygments_lexer": "ipython3",
   "version": "3.7.13"
  },
  "orig_nbformat": 4,
  "vscode": {
   "interpreter": {
    "hash": "9b355eaead05d8aa9625b8ad4bf2d6eb0e425b10698cb9131ff0d5eefa2abfa2"
   }
  }
 },
 "nbformat": 4,
 "nbformat_minor": 2
}
